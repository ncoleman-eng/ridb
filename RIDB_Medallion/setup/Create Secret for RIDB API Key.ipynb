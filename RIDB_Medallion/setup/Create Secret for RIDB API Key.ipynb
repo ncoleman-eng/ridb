{
 "cells": [
  {
   "cell_type": "code",
   "execution_count": 0,
   "metadata": {
    "application/vnd.databricks.v1+cell": {
     "cellMetadata": {
      "byteLimit": 2048000,
      "rowLimit": 10000
     },
     "inputWidgets": {},
     "nuid": "b5aecadc-6c94-4cb5-a984-55a7fc8fa0c9",
     "showTitle": false,
     "tableResultSettingsMap": {},
     "title": ""
    }
   },
   "outputs": [],
   "source": [
    "from databricks.sdk import WorkspaceClient\n",
    "\n",
    "w = WorkspaceClient()\n",
    "\n",
    "# Create the secret scope\n",
    "w.secrets.create_scope(scope=\"ridb_secrets\")\n",
    "\n",
    "# Add the secret to the created scope\n",
    "w.secrets.put_secret(\n",
    "    scope=\"ridb_secrets\",\n",
    "    key=\"apikey\",\n",
    "    string_value=\"replace with your own api key\"\n",
    ")"
   ]
  }
 ],
 "metadata": {
  "application/vnd.databricks.v1+notebook": {
   "computePreferences": null,
   "dashboards": [],
   "environmentMetadata": {
    "base_environment": "",
    "environment_version": "2"
   },
   "inputWidgetPreferences": null,
   "language": "python",
   "notebookMetadata": {
    "pythonIndentUnit": 4
   },
   "notebookName": "Create Secret for RIDB API Key",
   "widgets": {}
  },
  "language_info": {
   "name": "python"
  }
 },
 "nbformat": 4,
 "nbformat_minor": 0
}
