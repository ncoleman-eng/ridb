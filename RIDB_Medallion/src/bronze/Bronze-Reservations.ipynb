{
 "cells": [
  {
   "cell_type": "code",
   "execution_count": 0,
   "metadata": {
    "application/vnd.databricks.v1+cell": {
     "cellMetadata": {
      "byteLimit": 2048000,
      "rowLimit": 10000
     },
     "inputWidgets": {},
     "nuid": "b8e83eb2-f1ac-4ef1-bb9f-ac3ca13f837c",
     "showTitle": true,
     "tableResultSettingsMap": {},
     "title": "Poll API and Write to Bronze.Reservations"
    }
   },
   "outputs": [],
   "source": [
    "from pyspark.sql.functions import current_timestamp, when, col\n",
    "import requests\n",
    "import time\n",
    "from datetime import datetime, timedelta\n",
    "\n",
    "# ---------------------------\n",
    "# CONFIGURATION\n",
    "# ---------------------------\n",
    "catalog_prefix = dbutils.widgets.get(\"catalog_prefix\")\n",
    "catalog_name = f\"{catalog_prefix}ridb\"\n",
    "schema_name = \"bronze\"\n",
    "table_name = \"reservations\"\n",
    "api_key = dbutils.secrets.get(scope = \"ridb_secrets\", key = \"apikey\") # replace with your own key\n",
    "api_url = \"https://ridb.recreation.gov/api/v1/reservations\"\n",
    "page_size = 500 # max limit\n",
    "delay_seconds = 0.1 # rate limit is 50/second\n",
    "\n",
    "# Rolling 2-day window based on current date\n",
    "today = datetime.now()\n",
    "start_date = (today - timedelta(days=1)).strftime(\"%Y-%m-%d\")\n",
    "end_date = today.strftime(\"%Y-%m-%d\")\n",
    "\n",
    "# ---------------------------\n",
    "# CREATE CATALOG & SCHEMA\n",
    "# ---------------------------\n",
    "spark.sql(f\"CREATE CATALOG IF NOT EXISTS {catalog_name}\")\n",
    "spark.sql(f\"USE CATALOG {catalog_name}\")\n",
    "spark.sql(f\"CREATE SCHEMA IF NOT EXISTS {schema_name}\")\n",
    "spark.sql(f\"USE SCHEMA {schema_name}\")\n",
    "\n",
    "# ---------------------------\n",
    "# FUNCTION TO FETCH A PAGE\n",
    "# ---------------------------\n",
    "def get_page(page):\n",
    "    params = {\n",
    "        \"limit\": page_size,\n",
    "        \"page\": page,\n",
    "        \"dateFrom\": start_date,\n",
    "        \"dateTo\": end_date\n",
    "    }\n",
    "    headers = {\n",
    "        \"accept\": \"application/json\",\n",
    "        \"apikey\": api_key\n",
    "    }\n",
    "    response = requests.get(api_url, headers=headers, params=params)\n",
    "    if response.status_code != 200:\n",
    "        raise Exception(f\"API error: {response.status_code} - {response.text}\")\n",
    "    return response.json().get(\"data\", [])\n",
    "\n",
    "# ---------------------------\n",
    "# FETCH ALL RECORDS UNTIL NO MORE DATA\n",
    "# ---------------------------\n",
    "all_records = []\n",
    "page = 0\n",
    "while True:\n",
    "    data = get_page(page)\n",
    "    if not data:\n",
    "        break\n",
    "    all_records.extend(data)\n",
    "    page += 1\n",
    "    time.sleep(delay_seconds)\n",
    "\n",
    "# ---------------------------\n",
    "# CONVERT TO DATAFRAME\n",
    "# ---------------------------\n",
    "df = spark.createDataFrame(all_records)\n",
    "\n",
    "# Replace empty strings with nulls for all string columns\n",
    "for c in df.columns:\n",
    "    df = df.withColumn(\n",
    "        c,\n",
    "        when(col(c) == \"\", None).otherwise(col(c))\n",
    "    )\n",
    "\n",
    "df = df.withColumn(\"ingested_at\", current_timestamp())\n",
    "\n",
    "# ---------------------------\n",
    "# WRITE TO DELTA TABLE (MERGE)\n",
    "# ---------------------------\n",
    "table_path = f\"{catalog_name}.{schema_name}.{table_name}\"\n",
    "\n",
    "if not spark.catalog.tableExists(table_path):\n",
    "    df.write.format(\"delta\") \\\n",
    "        .option(\"delta.enableChangeDataFeed\", \"true\") \\\n",
    "        .saveAsTable(table_path)\n",
    "else:\n",
    "    df.createOrReplaceTempView(\"staging_reservations\")\n",
    "    spark.sql(f\"\"\"\n",
    "        MERGE INTO {table_path} t\n",
    "        USING staging_reservations s\n",
    "        ON t.historical_reservation_id = s.historical_reservation_id AND t.order_date = s.order_date\n",
    "        WHEN NOT MATCHED THEN\n",
    "          INSERT *\n",
    "    \"\"\")"
   ]
  }
 ],
 "metadata": {
  "application/vnd.databricks.v1+notebook": {
   "computePreferences": {
    "hardware": {
     "accelerator": null,
     "gpuPoolId": null,
     "memory": null
    }
   },
   "dashboards": [],
   "environmentMetadata": {
    "base_environment": "",
    "environment_version": "2"
   },
   "inputWidgetPreferences": null,
   "language": "python",
   "notebookMetadata": {
    "mostRecentlyExecutedCommandWithImplicitDF": {
     "commandId": 6320194170307393,
     "dataframes": [
      "_sqldf"
     ]
    },
    "pythonIndentUnit": 4
   },
   "notebookName": "Bronze-Reservations",
   "widgets": {}
  },
  "language_info": {
   "name": "python"
  }
 },
 "nbformat": 4,
 "nbformat_minor": 0
}
