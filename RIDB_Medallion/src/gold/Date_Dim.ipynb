{
 "cells": [
  {
   "cell_type": "code",
   "execution_count": 0,
   "metadata": {
    "application/vnd.databricks.v1+cell": {
     "cellMetadata": {
      "byteLimit": 2048000,
      "implicitDf": true,
      "rowLimit": 10000
     },
     "inputWidgets": {},
     "nuid": "7481f4aa-427d-46cb-a246-c13184ef3b94",
     "showTitle": false,
     "tableResultSettingsMap": {},
     "title": ""
    }
   },
   "outputs": [],
   "source": [
    "%sql\n",
    "CREATE SCHEMA IF NOT EXISTS ${catalog_prefix}ridb.gold;\n",
    "\n",
    "CREATE OR REPLACE TABLE ${catalog_prefix}ridb.gold.date_dimension (\n",
    "  date_key DATE PRIMARY KEY,\n",
    "  year INT,\n",
    "  quarter INT,\n",
    "  quarter_name STRING,\n",
    "  month INT,\n",
    "  month_name STRING,\n",
    "  day INT,\n",
    "  day_of_week INT,\n",
    "  day_of_week_name STRING,\n",
    "  week_of_year INT,\n",
    "  is_weekend BOOLEAN\n",
    ");\n",
    "\n",
    "INSERT INTO ${catalog_prefix}ridb.gold.date_dimension\n",
    "SELECT\n",
    "  d AS date_key,\n",
    "  year(d) AS year,\n",
    "  quarter(d) AS quarter,\n",
    "  CASE quarter(d)\n",
    "    WHEN 1 THEN 'Q1'\n",
    "    WHEN 2 THEN 'Q2'\n",
    "    WHEN 3 THEN 'Q3'\n",
    "    WHEN 4 THEN 'Q4'\n",
    "  END AS quarter_name,\n",
    "  month(d) AS month,\n",
    "  date_format(d, 'MMMM') AS month_name,\n",
    "  day(d) AS day,\n",
    "  dayofweek(d) AS day_of_week,\n",
    "  date_format(d, 'EEEE') AS day_of_week_name,\n",
    "  weekofyear(d) AS week_of_year,\n",
    "  CASE WHEN dayofweek(d) IN (7, 1) THEN TRUE ELSE FALSE END AS is_weekend\n",
    "FROM (\n",
    "  SELECT sequence(\n",
    "    date_add(current_date(), -3652),  -- approx 10 years ago\n",
    "    date_add(current_date(), 3652),   -- approx 10 years ahead\n",
    "    INTERVAL 1 DAY\n",
    "  ) AS date_seq\n",
    ") s\n",
    "LATERAL VIEW explode(date_seq) t AS d;"
   ]
  }
 ],
 "metadata": {
  "application/vnd.databricks.v1+notebook": {
   "computePreferences": null,
   "dashboards": [],
   "environmentMetadata": {
    "base_environment": "",
    "environment_version": "4"
   },
   "inputWidgetPreferences": null,
   "language": "python",
   "notebookMetadata": {
    "mostRecentlyExecutedCommandWithImplicitDF": {
     "commandId": 8299302767764395,
     "dataframes": [
      "_sqldf"
     ]
    },
    "pythonIndentUnit": 4
   },
   "notebookName": "Date_Dim",
   "widgets": {}
  },
  "language_info": {
   "name": "python"
  }
 },
 "nbformat": 4,
 "nbformat_minor": 0
}
